{
  "nbformat": 4,
  "nbformat_minor": 0,
  "metadata": {
    "colab": {
      "name": "Tarefa4.ipynb",
      "provenance": [],
      "toc_visible": true
    },
    "kernelspec": {
      "name": "python3",
      "display_name": "Python 3"
    }
  },
  "cells": [
    {
      "cell_type": "markdown",
      "metadata": {
        "id": "E_AQnEF5k8CV"
      },
      "source": [
        "# Exercício 1"
      ]
    },
    {
      "cell_type": "code",
      "metadata": {
        "id": "2KrlYX5Wkzle"
      },
      "source": [
        "import numpy as np\n",
        "import cv2\n",
        "from matplotlib import pyplot as plt\n",
        "\n",
        "def showImage(img):\n",
        "    imgMPLIB = cv2.cvtColor(img, cv2.COLOR_BGR2RGB)\n",
        "    plt.imshow(imgMPLIB)\n",
        "    plt.show()\n",
        "\n",
        "def InserindoTexto(texto):\n",
        "    img = cv2.imread(\"ceu.jpg\")\n",
        "    finalImage = cv2.putText(img, texto, (250, 120), cv2.FONT_HERSHEY_SIMPLEX ,\n",
        "                  2.5, (0, 0, 0), 5, cv2.LINE_AA)\n",
        "\n",
        "    cv2.imwrite(\"escrito-no-ceu.png\", finalImage)\n",
        "    showImage(img)\n",
        "\n",
        "def UnindoImg():\n",
        "    ceu = cv2.imread(\"ceu.jpg\")\n",
        "    marca = cv2.imread(\"marca.jpg\")\n",
        "\n",
        "    #ambas c/ a mesma dimensão\n",
        "    alturaCeu, larguraCeu, _ = ceu.shape\n",
        "    marca = cv2.resize(marca,(larguraCeu, alturaCeu))\n",
        "\n",
        "    #Soma os pixel de kd pixel, e os 0.5 sao os pesos.\n",
        "    uniao = cv2.addWeighted(ceu, 1,marca,0.2, 0)\n",
        "    cv2.imwrite(\"uniao.png\", uniao)\n",
        "    showImage(uniao)\n",
        "\n",
        "def main():\n",
        "    InserindoTexto(\"Cansada!\")\n",
        "    UnindoImg()\n",
        "\n",
        "main()\n"
      ],
      "execution_count": null,
      "outputs": []
    },
    {
      "cell_type": "markdown",
      "metadata": {
        "id": "R_Rz2I2alApF"
      },
      "source": [
        "# Exercício 2"
      ]
    },
    {
      "cell_type": "code",
      "metadata": {
        "id": "4Y0FCny-lCZd"
      },
      "source": [
        "import numpy as np\n",
        "import cv2\n",
        "\n",
        "cap = cv2.VideoCapture(0)\n",
        "\n",
        "while (True):\n",
        "    _, frame = cap.read()\n",
        "\n",
        "    hsvImage = cv2.cvtColor(frame, cv2.COLOR_BGR2HSV)\n",
        "\n",
        "    lowerRed = np.array([70, 50, 0])\n",
        "    upperRed = np.array([130, 255, 255])\n",
        "\n",
        "    #Analisa todos os pixels da img e todos q cairem no intervalo do azul ele marca\n",
        "    mask = cv2.inRange(hsvImage, lowerRed, upperRed)\n",
        "\n",
        "    #Pega todos os pixels marcados de branco na mascara e retorna os valores\n",
        "    #RETR_TREE = retorna tds as curvas e constroi uma arvore hierarquica entre eles\n",
        "    #CHAIN_APPROX_SIMPLE = pega somente os pontos essenciais da curva e amarzena-os\n",
        "    contours, hierarchy = cv2.findContours(mask, cv2.RETR_TREE, cv2.CHAIN_APPROX_SIMPLE)\n",
        "\n",
        "    #se existir contornos\n",
        "    if contours:\n",
        "        #retorna a área em pixels de um determinado contorno\n",
        "        maxArea = cv2.contourArea(contours[0])\n",
        "        contourId = 0; i = 0\n",
        "        for cnt in contours:\n",
        "            #p pegar o contorno q tiver maior área\n",
        "            if maxArea < cv2.contourArea(cnt):\n",
        "                maxArea = cv2.contourArea(cnt)\n",
        "                #pega identificador do maior contorno\n",
        "                contourId = i\n",
        "            i += 1\n",
        "\n",
        "        #retorna um retângulo que envolve o contorno em questão\n",
        "        x,y,w,h = cv2.boundingRect(contours[contourId])\n",
        "\n",
        "        # desenha o retângulo vermelho com espessura 3\n",
        "        cv2.rectangle(frame,(x,y),(x+w,y+h),(0,0,255),3)\n",
        "\n",
        "    cv2.imshow('frame', frame)\n",
        "\n",
        "    if cv2.waitKey(1) & 0xFF == ord('q'):\n",
        "        break\n",
        "\n",
        "cap.release()\n",
        "cv2.destroyAllWindows()\n"
      ],
      "execution_count": null,
      "outputs": []
    }
  ]
}