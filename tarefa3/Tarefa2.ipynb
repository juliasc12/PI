{
  "nbformat": 4,
  "nbformat_minor": 0,
  "metadata": {
    "colab": {
      "name": "Tarefa2.ipynb",
      "provenance": [],
      "collapsed_sections": [],
      "toc_visible": true
    },
    "kernelspec": {
      "name": "python3",
      "display_name": "Python 3"
    }
  },
  "cells": [
    {
      "cell_type": "markdown",
      "metadata": {
        "id": "wKUANOgadzCc"
      },
      "source": [
        "# Exercicio 1"
      ]
    },
    {
      "cell_type": "code",
      "metadata": {
        "id": "dNM-JbqldtAv"
      },
      "source": [
        "import numpy as np\n",
        "import cv2\n",
        "from matplotlib import pyplot as plt\n",
        "\n",
        "def showImage(img):\n",
        "    img = cv2.cvtColor(img, cv2.COLOR_BGR2RGB)\n",
        "    plt.imshow(img)\n",
        "    plt.show()\n",
        "\n",
        "def crop(img,y1,altura,x1,largura):\n",
        "    crop_img = img[ y1:altura , x1:largura ]\n",
        "    showImage(crop_img)\n",
        "    cv2.imwrite(\"crop.jpg\",crop_img)\n",
        "\n",
        "def main():\n",
        "    img = cv2.imread(\"lisa2.jpg\")\n",
        "    y1=28; altura=118; x1=276; largura=375\n",
        "    crop(img,y1,altura,x1,largura)\n",
        "\n",
        "main()"
      ],
      "execution_count": null,
      "outputs": []
    },
    {
      "cell_type": "markdown",
      "metadata": {
        "id": "g5okVUFed7kK"
      },
      "source": [
        "# Exercicio 2"
      ]
    },
    {
      "cell_type": "code",
      "metadata": {
        "id": "SNDqMjb-d9ia"
      },
      "source": [
        "import numpy as np\n",
        "import cv2\n",
        "from matplotlib import pyplot as plt\n",
        "\n",
        "def showImage(img):\n",
        "    img = cv2.cvtColor(img, cv2.COLOR_BGR2RGB)\n",
        "    plt.imshow(img)\n",
        "    plt.show()\n",
        "\n",
        "def crop(img,y1,altura,x1,largura):\n",
        "    crop_img = img[ y1:altura , x1:largura ]\n",
        "    #showImage(crop_img)\n",
        "    cv2.imwrite(\"crop.jpg\",crop_img)\n",
        "    return (crop_img)\n",
        "\n",
        "def paste(img, crop_img, y,x):\n",
        "    img[y:y+crop_img.shape[0], x:x+crop_img.shape[1]] = crop_img\n",
        "    showImage(img)\n",
        "    cv2.imwrite(\"pythonshop.jpg\", img)\n",
        "\n",
        "def main():\n",
        "    img = cv2.imread(\"lisa2.jpg\")\n",
        "    \n",
        "    y1=28; altura=118; x1=276; largura=362\n",
        "    crop_img = crop(img,y1,altura,x1,largura)\n",
        "\n",
        "    y=30; x=347\n",
        "    pythonshop_img = paste(img,crop_img,y,x)\n",
        "\n",
        "main()\n"
      ],
      "execution_count": null,
      "outputs": []
    },
    {
      "cell_type": "markdown",
      "metadata": {
        "id": "6r0fP0KEeAg4"
      },
      "source": [
        "# Exercicio 3"
      ]
    },
    {
      "cell_type": "code",
      "metadata": {
        "id": "AHaZr5N9eC7J"
      },
      "source": [
        "import cv2\n",
        "from matplotlib import pyplot as plt\n",
        "import os\n",
        "\n",
        "def getColor(img,x,y):\n",
        "    return img.item(y,x,0), img.item(y,x,1),img.item(y,x,2)\n",
        "\n",
        "def main():\n",
        "    img = cv2.imread(\"lisa2.jpg\")\n",
        "    img = cv2.cvtColor(img, cv2.COLOR_BGR2RGB)\n",
        "    altura, largura, canais_de_cores = img.shape\n",
        "    \n",
        "    print(\"Analisando camadas de pixel azul: \")\n",
        "    plt.imshow(img[:,:,0], 'gray')\n",
        "    plt.show()\n",
        "\n",
        "    print(\"Analisando camadas de pixel verde: \")\n",
        "    plt.imshow(img[:,:,1], 'gray')\n",
        "    plt.show()\n",
        "\n",
        "    print(\"Analisando camadas de pixel vermelho: \")\n",
        "    plt.imshow(img[:,:,2], 'gray')\n",
        "    plt.show()\n",
        "\n",
        "    contB=0; contG=0; contR=0\n",
        "    for y in range(0,altura):\n",
        "        for x in range(0,largura):\n",
        "            azul,verde,vermelho = getColor(img,x,y)\n",
        "            contB = azul+contB\n",
        "            contG = verde+contG\n",
        "            contR = vermelho+contR\n",
        "\n",
        "    #img de dimensoes 436x512 = 223.232\n",
        "    TotalPixel = 223332\n",
        "    MediaB = (contB/TotalPixel)\n",
        "    MediaG = (contG/TotalPixel)\n",
        "    MediaR = (contR/TotalPixel)\n",
        "\n",
        "    print(\"Media Azul: \"+str(MediaB)+\"/ Media Verde: \"+str(MediaG)+\"/ Media Vermelha: \"+str(MediaR))\n",
        "\n",
        "\n",
        "main()\n"
      ],
      "execution_count": null,
      "outputs": []
    },
    {
      "cell_type": "markdown",
      "metadata": {
        "id": "4gGNwWWOeGbQ"
      },
      "source": [
        "# Exercicio 4"
      ]
    },
    {
      "cell_type": "code",
      "metadata": {
        "id": "zu8zDL1yeKMe"
      },
      "source": [
        "import numpy as np\n",
        "import cv2\n",
        "from matplotlib import pyplot as plt\n",
        "import os\n",
        "\n",
        "def showImg(img):\n",
        "    img = cv2.cvtColor(img, cv2.COLOR_BGR2RGB)\n",
        "    plt.imshow(img)\n",
        "    plt.show()\n",
        "\n",
        "def getColor(img,x,y):\n",
        "    return img.item(y,x,0), img.item(y,x,1),img.item(y,x,2)\n",
        "\n",
        "def setColor(img, x,y, b, g, r):\n",
        "    img.itemset((y,x,0), b)\n",
        "    img.itemset((y,x,1), g)\n",
        "    img.itemset((y,x,2), r)\n",
        "\n",
        "def main():\n",
        "    img = cv2.imread(\"sonic.jpg\")\n",
        "    altura, largura, canais_de_cores = img.shape\n",
        "\n",
        "    for y in range(0,altura):\n",
        "        for x in range(0,largura):\n",
        "            azul,verde,vermelho = getColor(img,x,y)\n",
        "            setColor(img,x,y,verde,azul,vermelho)\n",
        "\n",
        "    showImg(img)\n",
        "    cv2.imwrite(\"Brasonic.jpg\",img)\n",
        "\n",
        "main()\n"
      ],
      "execution_count": null,
      "outputs": []
    },
    {
      "cell_type": "markdown",
      "metadata": {
        "id": "DEDNSxhxeLHa"
      },
      "source": [
        "# Exercicio 5"
      ]
    },
    {
      "cell_type": "code",
      "metadata": {
        "id": "-2tw_rmveNTg"
      },
      "source": [
        "import cv2\n",
        "import numpy as np\n",
        "from matplotlib import pyplot as plt\n",
        "\n",
        "def showImage(img):\n",
        "    img = cv2.cvtColor(img, cv2.COLOR_BGR2RGB)\n",
        "    plt.imshow(img)\n",
        "    plt.show()\n",
        "\n",
        "def main():\n",
        "    mae = cv2.imread(\"mae.jpg\")\n",
        "    pai = cv2.imread(\"pai.jpg\")\n",
        "\n",
        "    #ambas c/ a mesma dimensão\n",
        "    alturaMae, larguraMae, _ = mae.shape\n",
        "    pai = cv2.resize(pai,(larguraMae, alturaMae))\n",
        "\n",
        "    #Soma os pixel de kd pixel, e os 0.5 sao os pesos.\n",
        "    amores = cv2.addWeighted(mae, 0.5,pai,0.5, 0)\n",
        "    showImage(amores)\n",
        "\n",
        "main()"
      ],
      "execution_count": null,
      "outputs": []
    }
  ]
}